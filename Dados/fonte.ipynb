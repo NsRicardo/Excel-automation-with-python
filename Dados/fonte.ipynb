{
 "cells": [
  {
   "cell_type": "code",
   "execution_count": null,
   "metadata": {},
   "outputs": [],
   "source": [
    "# Importação das bibliotecas\n",
    "from openpyxl import Workbook, load_workbook\n",
    "from openpyxl.utils import get_column_letter\n",
    "import glob, os, shutil"
   ]
  },
  {
   "cell_type": "markdown",
   "metadata": {},
   "source": [
    "![-](https://raw.githubusercontent.com/NsRicardo/Excel-automation-with-python/master/Recursos/Flare.png?token=GHSAT0AAAAAABYSXMJZ4WOZSA35JIKBPIWAYY7H7OA)"
   ]
  },
  {
   "cell_type": "markdown",
   "metadata": {},
   "source": [
    "Cria matrizes de avaliação "
   ]
  },
  {
   "cell_type": "code",
   "execution_count": null,
   "metadata": {},
   "outputs": [],
   "source": [
    "\n",
    "#locais \n",
    "fileModelo = 'S://SAAC//2022//Pastas Pessoais//RICARDO//BI//Dashboard de Avalicação//Recursos//planilhaMatriz.xlsx'\n",
    "fileConsulta = 'S://SAAC//2022//Pastas Pessoais//RICARDO//BI//Dashboard de Avalicação//Recursos//PCA 2022-dados.xlsx'\n",
    "destino = 'S://SAAC//2022//Pastas Pessoais//RICARDO//BI//Dashboard de Avalicação//Dados//Matrizes para avaliação//'\n",
    "#----------------------\n",
    "\n",
    "#abre a planilha consulta\n",
    "wb = load_workbook(fileConsulta, data_only= True)\n",
    "ws = wb['PCA 2022-dados']\n",
    "os.chdir('C:/Users/077935461325/Desktop/')\n",
    "\n",
    "#busca quantidade de linhas com dados\n",
    "nrows = 1\n",
    "while( True):\n",
    "    if ((ws['B'+str(nrows)].value) == None):\n",
    "        break\n",
    "    nrows += 1\n",
    "    \n",
    "    \n",
    "for i in range(nrows-2):\n",
    "    \n",
    "    #get de dados da fonte \n",
    "    sei = ws['B'+str(i+2)].value\n",
    "    objetos = ws['L'+str(i+2)].value\n",
    "    stDemandante = ws['Y'+str(i+2)].value\n",
    "    \n",
    "    print('Arquivo: ', i+1, \" :: \", sei)\n",
    "    \n",
    "    #Preencha celulas na planilha matriz\n",
    "    wn = load_workbook(fileModelo)\n",
    "    wd = wn['Avaliação de Qualidade']\n",
    "    \n",
    "    wd['D4'] = sei\n",
    "    wd['D5'] = objetos\n",
    "    wd['G6'] = stDemandante\n",
    "    \n",
    "    novoNome = sei+\".xlsx\"\n",
    "    wn.save(destino+novoNome)\n",
    "\n",
    "print(f'FORAM CRIADAS {nrows-2} PLANILHAS DE AVALICAÇÃO COM SUCESSO!')\n",
    "    "
   ]
  },
  {
   "cell_type": "markdown",
   "metadata": {},
   "source": [
    "![-](https://raw.githubusercontent.com/NsRicardo/Excel-automation-with-python/master/Recursos/Flare.png?token=GHSAT0AAAAAABYSXMJZ4WOZSA35JIKBPIWAYY7H7OA)"
   ]
  },
  {
   "cell_type": "markdown",
   "metadata": {},
   "source": [
    "Extrair os Dados para analise em .CSV ou .xlsx\n"
   ]
  },
  {
   "cell_type": "code",
   "execution_count": null,
   "metadata": {},
   "outputs": [],
   "source": [
    "#Obtem e grava em novo arquivo os nomes de todos os arquivos .xlsx do diretorio\n",
    "\n",
    "os.chdir('S:/SAAC/2022/Pastas Pessoais/RICARDO/BI/Dashboard de Avalicação/Dados/Matrizes para avaliação/')\n",
    "dadosExtraidos = \"S:/SAAC/2022/Pastas Pessoais/RICARDO/BI/Dashboard de Avalicação/Dados/dadosExtraidos.xlsx\"\n",
    "# -- CSV -- # nomes = open('../nomes.csv', 'w', encoding='utf_8_sig')\n",
    "\n",
    "cont = 2\n",
    "v_Avaliacao = []\n",
    "v_diciAvaliacao = ['G','H','I','J','K','M','N','O','P','Q','R','S','T','U','W','X','Y','Z','AA','AB','AC','AD','AF','AG','AH','AI']\n",
    "\n",
    "\n",
    "for file in glob.glob('*.xlsx'):\n",
    "    wb = load_workbook(file, data_only= True)\n",
    "    ws = wb['Avaliação de Qualidade']\n",
    "    \n",
    "    sei = ws['D4'].value\n",
    "    data = ws['F4'].value\n",
    "    objetos = ws['D5'].value\n",
    "    avaliador = ws['G5'].value\n",
    "    setor = ws['G6'].value\n",
    "    q_geral = ws['J6'].value\n",
    "    nf_1 = ws['J9'].value\n",
    "    nf_2 = ws['J14'].value\n",
    "    nf_3 = ws['J23'].value\n",
    "    nf_4 = ws['J31'].value\n",
    "    \n",
    "    #OBTEM DADOS DA COLUNA AVALIAÇÃO\n",
    "    j = 9\n",
    "    avaliacao = ''\n",
    "    \n",
    "    for i in range(26):\n",
    "        celula = 'H'+str(j)\n",
    "        avaliacao = ws[celula].value\n",
    "        v_Avaliacao.append(avaliacao)\n",
    "        j +=1\n",
    "    #SALVA EM EXCEL\n",
    "    wf = load_workbook(dadosExtraidos)\n",
    "    wfs = wf.active\n",
    "    \n",
    "    wfs['A'+str(cont)].value = sei\n",
    "    wfs['B'+str(cont)].value = data\n",
    "    wfs['C'+str(cont)].value = objetos\n",
    "    wfs['D'+str(cont)].value = avaliador\n",
    "    wfs['E'+str(cont)].value = setor\n",
    "    wfs['F'+str(cont)].value = q_geral\n",
    "    wfs['L'+str(cont)].value = nf_1\n",
    "    wfs['V'+str(cont)].value = nf_2\n",
    "    wfs['AE'+str(cont)].value = nf_3\n",
    "    wfs['AJ'+str(cont)].value = nf_4\n",
    "    \n",
    "    for i in range(25):\n",
    "        L = v_diciAvaliacao[i]+str(cont)\n",
    "        if sei == '00516.2021-9':\n",
    "            print(\"ver: \",L,' = ', v_Avaliacao[i])\n",
    "        wfs[L].value = v_Avaliacao[i] \n",
    "    \n",
    "    cont +=1\n",
    "    wf.save(dadosExtraidos)\n",
    "    \n",
    "    # -- CSV -- #\n",
    "    #print(sei, data ,objetos ,avaliador, q_geral, nf_1, nf_2, nf_3, nf_4, sep=\";\", file=nomes) \n",
    "\n",
    "print(F\"DADOS DE {cont-2} PLANILHAS ENCAMINHADAS COM SUCESSO PARA O ARQUIVO 'dadosExtraidos.xlsx' \")\n",
    "\n",
    "#nomes.close()"
   ]
  },
  {
   "cell_type": "code",
   "execution_count": null,
   "metadata": {},
   "outputs": [],
   "source": [
    "# executar em caso de erro\n",
    "wb.close()"
   ]
  }
 ],
 "metadata": {
  "kernelspec": {
   "display_name": "Python 3.9.12 ('base')",
   "language": "python",
   "name": "python3"
  },
  "language_info": {
   "codemirror_mode": {
    "name": "ipython",
    "version": 3
   },
   "file_extension": ".py",
   "mimetype": "text/x-python",
   "name": "python",
   "nbconvert_exporter": "python",
   "pygments_lexer": "ipython3",
   "version": "3.9.12"
  },
  "orig_nbformat": 4,
  "vscode": {
   "interpreter": {
    "hash": "5684ac9886d52ac30e6077238c1a7b1a6d368b132c54ee439ae13709a075cf25"
   }
  }
 },
 "nbformat": 4,
 "nbformat_minor": 2
}
